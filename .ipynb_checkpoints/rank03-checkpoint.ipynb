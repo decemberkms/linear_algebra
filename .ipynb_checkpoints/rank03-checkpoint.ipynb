{
 "cells": [
  {
   "cell_type": "code",
   "execution_count": 1,
   "id": "2e784103",
   "metadata": {},
   "outputs": [],
   "source": [
    "import numpy as np\n",
    "import pandas as pd\n",
    "from matplotlib import pyplot as plt\n",
    "import math"
   ]
  },
  {
   "cell_type": "code",
   "execution_count": 60,
   "id": "f338c8b4",
   "metadata": {},
   "outputs": [
    {
     "name": "stdout",
     "output_type": "stream",
     "text": [
      " rankg 4\n",
      "[[-0.51608974  0.23501471 -0.19476872 -2.13091499  0.74406124 -0.56866101]\n",
      " [-0.89375156  0.15110122  1.16375441  1.4692302   0.31868976 -0.35253772]\n",
      " [-0.03884012  0.23793755  0.7362649   1.04744034  1.33815884  0.56137104]\n",
      " [-0.03884012  0.23793755  0.7362649   1.04744034  1.33815884  0.56137104]]\n",
      "[[-0.51608974  0.23501471 -0.19476872 -2.13091499  0.74406124 -0.56866101]\n",
      " [-0.89375156  0.15110122  1.16375441  1.4692302   0.31868976 -0.35253772]\n",
      " [-0.03884012  0.23793755  0.7362649   1.04744034  1.33815884  0.56137104]\n",
      " [-0.03884012  0.23793755  0.7362649   1.04744034  1.33815884  0.56137104]]\n",
      " rankg 3\n"
     ]
    }
   ],
   "source": [
    "# compute Rank\n",
    "m, n = 4, 6\n",
    "\n",
    "# random number matrix is almost always full rank\n",
    "A = np.random.randn(m, n)\n",
    "\n",
    "# what is the largest possible rank?\n",
    "ra = np.linalg.matrix_rank(A)\n",
    "print(\" rankg {}\".format(ra))\n",
    "\n",
    "# set last column to be repeat of penultimate column\n",
    "B = A\n",
    "# B[:, -1] = B[:, -2]\n",
    "B[-1, :] = B[-2, :]\n",
    "print(A)\n",
    "print(B)\n",
    "rb = np.linalg.matrix_rank(B)\n",
    "print(\" rankg {}\".format(rb))\n"
   ]
  },
  {
   "cell_type": "code",
   "execution_count": null,
   "id": "7316e384",
   "metadata": {},
   "outputs": [],
   "source": []
  },
  {
   "cell_type": "code",
   "execution_count": null,
   "id": "f0112867",
   "metadata": {},
   "outputs": [],
   "source": []
  },
  {
   "cell_type": "code",
   "execution_count": null,
   "id": "cf2d026d",
   "metadata": {},
   "outputs": [],
   "source": []
  },
  {
   "cell_type": "code",
   "execution_count": null,
   "id": "472d7020",
   "metadata": {},
   "outputs": [],
   "source": []
  },
  {
   "cell_type": "code",
   "execution_count": null,
   "id": "a7a7565f",
   "metadata": {},
   "outputs": [],
   "source": []
  },
  {
   "cell_type": "code",
   "execution_count": null,
   "id": "ecc2cef9",
   "metadata": {},
   "outputs": [],
   "source": []
  },
  {
   "cell_type": "code",
   "execution_count": null,
   "id": "347b4c49",
   "metadata": {},
   "outputs": [],
   "source": []
  },
  {
   "cell_type": "code",
   "execution_count": null,
   "id": "1b40f70a",
   "metadata": {},
   "outputs": [],
   "source": []
  },
  {
   "cell_type": "code",
   "execution_count": null,
   "id": "1149b0d3",
   "metadata": {},
   "outputs": [],
   "source": []
  },
  {
   "cell_type": "code",
   "execution_count": null,
   "id": "ca41115b",
   "metadata": {},
   "outputs": [],
   "source": []
  }
 ],
 "metadata": {
  "kernelspec": {
   "display_name": "Python 3 (ipykernel)",
   "language": "python",
   "name": "python3"
  },
  "language_info": {
   "codemirror_mode": {
    "name": "ipython",
    "version": 3
   },
   "file_extension": ".py",
   "mimetype": "text/x-python",
   "name": "python",
   "nbconvert_exporter": "python",
   "pygments_lexer": "ipython3",
   "version": "3.11.3"
  }
 },
 "nbformat": 4,
 "nbformat_minor": 5
}
