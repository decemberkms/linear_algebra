{
 "cells": [
  {
   "cell_type": "code",
   "execution_count": 1,
   "id": "fa2fd2ad",
   "metadata": {},
   "outputs": [],
   "source": [
    "import numpy as np\n",
    "import pandas as pd\n",
    "from matplotlib import pyplot as plt\n",
    "import math"
   ]
  },
  {
   "cell_type": "code",
   "execution_count": 62,
   "id": "ff9c67da",
   "metadata": {},
   "outputs": [
    {
     "name": "stdout",
     "output_type": "stream",
     "text": [
      " rankg 4\n",
      "[[-0.59478598 -0.9000241  -0.27214805  0.25014818  1.05411655  0.38431334]\n",
      " [-0.61107858 -1.84204688  0.76862682 -0.5061341   0.6543975   0.41761338]\n",
      " [-1.77691438  2.35392555  0.53564292  0.18759256  1.90401967  0.76688968]\n",
      " [-1.77691438  2.35392555  0.53564292  0.18759256  1.90401967  0.76688968]]\n",
      "[[-0.59478598 -0.9000241  -0.27214805  0.25014818  1.05411655  0.38431334]\n",
      " [-0.61107858 -1.84204688  0.76862682 -0.5061341   0.6543975   0.41761338]\n",
      " [-1.77691438  2.35392555  0.53564292  0.18759256  1.90401967  0.76688968]\n",
      " [-1.77691438  2.35392555  0.53564292  0.18759256  1.90401967  0.76688968]]\n",
      " rankg 3\n"
     ]
    }
   ],
   "source": [
    "# compute Rank\n",
    "m, n = 4, 6\n",
    "\n",
    "# random number matrix is almost always full rank\n",
    "A = np.random.randn(m, n)\n",
    "\n",
    "# what is the largest possible rank?\n",
    "ra = np.linalg.matrix_rank(A)\n",
    "print(\" rankg {}\".format(ra))\n",
    "\n",
    "# set last column to be repeat of penultimate column\n",
    "B = A\n",
    "# B[:, -1] = B[:, -2]\n",
    "B[-1, :] = B[-2, :]\n",
    "print(A)\n",
    "print(B)\n",
    "rb = np.linalg.matrix_rank(B)\n",
    "print(\" rankg {}\".format(rb))\n"
   ]
  },
  {
   "cell_type": "code",
   "execution_count": 5,
   "id": "6b73dd51",
   "metadata": {
    "scrolled": false
   },
   "outputs": [
    {
     "name": "stdout",
     "output_type": "stream",
     "text": [
      "(10, 10)\n",
      "4\n",
      "(8, 47)\n",
      "3\n"
     ]
    }
   ],
   "source": [
    "# how to make a matrix a certain rank\n",
    "# random number matrix has the maximum possible rank (assumably)\n",
    "A = np.random.randn(10,4)\n",
    "B = np.random.randn(4,10)\n",
    "C = A @ B\n",
    "print(np.shape(C))\n",
    "# print(C)\n",
    "print(np.linalg.matrix_rank(C))\n",
    "\n",
    "m = 8\n",
    "n = 47\n",
    "r = 3\n",
    "\n",
    "A = np.random.randn(m,r) @ np.random.randn(r,n)\n",
    "print(np.shape(A))\n",
    "# print(A)\n",
    "print(np.linalg.matrix_rank(A))"
   ]
  },
  {
   "cell_type": "code",
   "execution_count": 11,
   "id": "7aa252f6",
   "metadata": {},
   "outputs": [
    {
     "name": "stdout",
     "output_type": "stream",
     "text": [
      "5\n",
      "0\n",
      "5\n",
      "5\n"
     ]
    }
   ],
   "source": [
    "# scalar multiplication is invariant to rank\n",
    "A = np.random.randn(5,5)\n",
    "B = np.random.randn(5,5)\n",
    "# exception 0\n",
    "\n",
    "\n",
    "print(np.linalg.matrix_rank(A))\n",
    "print(np.linalg.matrix_rank(A*3))\n",
    "print(np.linalg.matrix_rank(B))\n",
    "print(np.linalg.matrix_rank(B*5))"
   ]
  },
  {
   "cell_type": "code",
   "execution_count": 20,
   "id": "7fc8131d",
   "metadata": {},
   "outputs": [
    {
     "name": "stdout",
     "output_type": "stream",
     "text": [
      "[[-0.87260374  1.89718078  1.1518572 ]\n",
      " [-1.57211677  0.12975003  1.14269265]\n",
      " [-1.1817336   0.47793497 -1.42386515]]\n",
      "[[-0.87260374 -1.57211677 -1.1817336 ]\n",
      " [ 1.89718078  0.12975003  0.47793497]\n",
      " [ 1.1518572   1.14269265 -1.42386515]]\n",
      "[[5.68750722 2.93421299 0.29782489]\n",
      " [2.93421299 3.7941327  0.29279507]\n",
      " [0.29782489 0.29279507 3.65230811]]\n",
      "[[ 4.62948275 -2.42426106 -1.11893188]\n",
      " [-2.42426106  3.84455183  1.6530308 ]\n",
      " [-1.11893188  1.6530308   4.65991345]]\n"
     ]
    }
   ],
   "source": [
    "A = np.random.randn(3,3)\n",
    "print(A)\n",
    "print(A.T)\n",
    "print(A@A.T)\n",
    "print(A.T@A)"
   ]
  },
  {
   "cell_type": "code",
   "execution_count": 33,
   "id": "3ce92a25",
   "metadata": {},
   "outputs": [
    {
     "name": "stdout",
     "output_type": "stream",
     "text": [
      "A\n",
      "2\n",
      "2\n",
      "2\n",
      "2\n",
      "B\n",
      "2\n",
      "2\n",
      "2\n",
      "2\n",
      "shape\n",
      "(5, 5)\n",
      "(5, 5)\n",
      "2\n",
      "4\n"
     ]
    }
   ],
   "source": [
    "A = np.random.randn(2, 5)\n",
    "B = np.random.randn(2, 5)\n",
    "\n",
    "print(\"A\")\n",
    "print(np.linalg.matrix_rank(A))\n",
    "print(np.linalg.matrix_rank(A.T))\n",
    "print(np.linalg.matrix_rank(A.T@A))\n",
    "print(np.linalg.matrix_rank(A@A.T))\n",
    "AtA = A.T@A\n",
    "\n",
    "print(\"B\")\n",
    "print(np.linalg.matrix_rank(B))\n",
    "print(np.linalg.matrix_rank(B.T))\n",
    "print(np.linalg.matrix_rank(B@B.T))\n",
    "print(np.linalg.matrix_rank(B.T@B))\n",
    "BtB = B.T@B\n",
    "\n",
    "print(\"shape\")\n",
    "print(np.shape(AtA))\n",
    "print(np.shape(BtB))\n",
    "print(np.linalg.matrix_rank(AtA@BtB))\n",
    "print(np.linalg.matrix_rank(AtA + BtB))"
   ]
  },
  {
   "cell_type": "code",
   "execution_count": null,
   "id": "49d51de2",
   "metadata": {},
   "outputs": [],
   "source": []
  },
  {
   "cell_type": "code",
   "execution_count": null,
   "id": "861f6937",
   "metadata": {},
   "outputs": [],
   "source": []
  },
  {
   "cell_type": "code",
   "execution_count": null,
   "id": "c1e0a027",
   "metadata": {},
   "outputs": [],
   "source": []
  },
  {
   "cell_type": "code",
   "execution_count": null,
   "id": "5c209305",
   "metadata": {},
   "outputs": [],
   "source": []
  },
  {
   "cell_type": "code",
   "execution_count": null,
   "id": "5db3826b",
   "metadata": {},
   "outputs": [],
   "source": []
  },
  {
   "cell_type": "code",
   "execution_count": null,
   "id": "edbff7fb",
   "metadata": {},
   "outputs": [],
   "source": []
  }
 ],
 "metadata": {
  "kernelspec": {
   "display_name": "Python 3 (ipykernel)",
   "language": "python",
   "name": "python3"
  },
  "language_info": {
   "codemirror_mode": {
    "name": "ipython",
    "version": 3
   },
   "file_extension": ".py",
   "mimetype": "text/x-python",
   "name": "python",
   "nbconvert_exporter": "python",
   "pygments_lexer": "ipython3",
   "version": "3.11.3"
  }
 },
 "nbformat": 4,
 "nbformat_minor": 5
}
