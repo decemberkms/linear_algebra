{
 "cells": [
  {
   "cell_type": "code",
   "execution_count": 1,
   "id": "3d04ac4d",
   "metadata": {},
   "outputs": [],
   "source": [
    "import numpy as np\n",
    "import pandas as pd\n",
    "from matplotlib import pyplot as plt\n",
    "import math\n",
    "from sympy import *\n",
    "\n",
    "import numpy as np\n",
    "import matplotlib.pyplot as plt\n",
    "from sympy import *\n",
    "import scipy.io as sio\n",
    "from mpl_toolkits.mplot3d import Axes3D"
   ]
  },
  {
   "cell_type": "code",
   "execution_count": 5,
   "id": "67e2fdad",
   "metadata": {},
   "outputs": [
    {
     "name": "stdout",
     "output_type": "stream",
     "text": [
      "[[-0.52138438 -0.85332193]\n",
      " [-0.85332193  0.52138438]]\n",
      "[9.89086518 3.18916698]\n",
      "[[-0.84833111 -0.08627374 -0.52238986]\n",
      " [ 0.50518185  0.16348607 -0.84738634]\n",
      " [-0.15851066  0.98276607  0.09510639]]\n"
     ]
    }
   ],
   "source": [
    "A = [[3,0,5], [8,1,3]]\n",
    "\n",
    "U,S,V = np.linalg.svd(A)\n",
    "\n",
    "print(U)\n",
    "print(S)\n",
    "print(V)"
   ]
  },
  {
   "cell_type": "code",
   "execution_count": 40,
   "id": "52df99fb",
   "metadata": {},
   "outputs": [],
   "source": [
    "# relationship between SVD and EDC for a square matix?\n",
    "\n",
    "A = np.random.randn(5,5)\n",
    "A = A @ A.T\n",
    "\n",
    "L, W = np.linalg.eig(A)\n",
    "\n",
    "U,s,V = np.linalg.svd(A)\n",
    "\n",
    "sidx = np.argsort(L)[::-1]\n",
    "L = L[sidx]\n",
    "W = W[:, sidx]\n"
   ]
  },
  {
   "cell_type": "code",
   "execution_count": 41,
   "id": "fcbdb11c",
   "metadata": {
    "scrolled": false
   },
   "outputs": [
    {
     "data": {
      "image/png": "[encoded data removed]",
      "text/plain": [
       "<Figure size 1000x700 with 6 Axes>"
      ]
     },
     "metadata": {},
     "output_type": "display_data"
    },
    {
     "name": "stdout",
     "output_type": "stream",
     "text": [
      "[7.3489161  5.54174568 3.81212349 0.88019424 0.19354024]\n",
      "[[-0.54078352  0.29109845 -0.40726417 -0.49421766  0.46119375]\n",
      " [-0.3731641  -0.63404021 -0.51671642  0.43716237 -0.02519462]\n",
      " [ 0.13763431 -0.57255505 -0.01780287 -0.75113128 -0.29786301]\n",
      " [-0.62102743 -0.23462983  0.74246553  0.01228154  0.08870099]\n",
      " [-0.40457813  0.3610876  -0.12477189 -0.01699831 -0.83070772]]\n",
      " \n",
      "[[-0.54078352  0.29109845 -0.40726417 -0.49421766 -0.46119375]\n",
      " [-0.3731641  -0.63404021 -0.51671642  0.43716237  0.02519462]\n",
      " [ 0.13763431 -0.57255505 -0.01780287 -0.75113128  0.29786301]\n",
      " [-0.62102743 -0.23462983  0.74246553  0.01228154 -0.08870099]\n",
      " [-0.40457813  0.3610876  -0.12477189 -0.01699831  0.83070772]]\n",
      "[7.3489161  5.54174568 3.81212349 0.88019424 0.19354024]\n",
      "[[-0.54078352 -0.3731641   0.13763431 -0.62102743 -0.40457813]\n",
      " [ 0.29109845 -0.63404021 -0.57255505 -0.23462983  0.3610876 ]\n",
      " [-0.40726417 -0.51671642 -0.01780287  0.74246553 -0.12477189]\n",
      " [-0.49421766  0.43716237 -0.75113128  0.01228154 -0.01699831]\n",
      " [-0.46119375  0.02519462  0.29786301 -0.08870099  0.83070772]]\n"
     ]
    }
   ],
   "source": [
    "fix, ax = plt.subplots(2,3, figsize = (10,7))\n",
    "\n",
    "ax[0,0].imshow(W)\n",
    "ax[0,0].set_title(\"W (eig)\")\n",
    "ax[0,1].imshow(np.diag(L))\n",
    "ax[0,1].set_title(\"L (eig)\")\n",
    "ax[0,2].imshow(np.zeros((1,1)))\n",
    "\n",
    "ax[1,0].imshow(U)\n",
    "ax[1,0].set_title(\"U (svd)\")\n",
    "ax[1,1].imshow(np.diag(s))\n",
    "ax[1,1].set_title(\"$\\Sigma$ (svd)\")\n",
    "ax[1,2].imshow(V)\n",
    "ax[1,2].set_title(\"V$^T$ (svd)\")\n",
    "\n",
    "plt.show()\n",
    "\n",
    "\n",
    "\n",
    "print(L)\n",
    "print(W)\n",
    "\n",
    "print(\" \")\n",
    "\n",
    "print(U)\n",
    "print(s)\n",
    "print(V)\n"
   ]
  },
  {
   "cell_type": "code",
   "execution_count": 42,
   "id": "da51f947",
   "metadata": {},
   "outputs": [
    {
     "data": {
      "text/plain": [
       "array([[-0.,  0., -0.,  0.,  0.],\n",
       "       [ 0.,  0., -0., -0., -0.],\n",
       "       [-0.,  0., -0.,  0.,  0.],\n",
       "       [-0., -0.,  0., -0., -0.],\n",
       "       [-0.,  0., -0., -0.,  0.]])"
      ]
     },
     "execution_count": 42,
     "metadata": {},
     "output_type": "execute_result"
    }
   ],
   "source": [
    "# Compare U and V\n",
    "np.round(U-V.T,4)"
   ]
  },
  {
   "cell_type": "code",
   "execution_count": 46,
   "id": "2b22d80a",
   "metadata": {},
   "outputs": [
    {
     "data": {
      "text/plain": [
       "array([[ 0.    ,  0.    , -0.    , -0.    , -0.9224],\n",
       "       [-0.    ,  0.    , -0.    , -0.    ,  0.0504],\n",
       "       [ 0.    ,  0.    , -0.    ,  0.    ,  0.5957],\n",
       "       [-0.    , -0.    , -0.    , -0.    , -0.1774],\n",
       "       [-0.    ,  0.    ,  0.    ,  0.    ,  1.6614]])"
      ]
     },
     "execution_count": 46,
     "metadata": {},
     "output_type": "execute_result"
    }
   ],
   "source": [
    "# compare U and W\n",
    "np.round(U - W,4 )"
   ]
  },
  {
   "cell_type": "markdown",
   "id": "9cc45438",
   "metadata": {},
   "source": [
    "# VIDEO: Relation between singular values and eigenvalues"
   ]
  },
  {
   "cell_type": "code",
   "execution_count": 53,
   "id": "7eab6fcd",
   "metadata": {},
   "outputs": [
    {
     "name": "stdout",
     "output_type": "stream",
     "text": [
      "[ 0.          0.34314575 11.65685425]\n",
      "[[10  4  0]\n",
      " [ 4  2  0]\n",
      " [ 0  0  0]]\n",
      "[ 0.34314575 11.65685425]\n"
     ]
    }
   ],
   "source": [
    "# case 1: eig(A'A) vs. svd(A)\n",
    "\n",
    "A = np.array([ [3,1,0], [1,1,0] ])\n",
    "\n",
    "print( np.sort(np.linalg.eig(A.T@A)[0]) )\n",
    "print(A.T@A)\n",
    "print( np.sort(np.linalg.svd(A)[1])**2 )"
   ]
  },
  {
   "cell_type": "code",
   "execution_count": 49,
   "id": "121ada4a",
   "metadata": {},
   "outputs": [
    {
     "name": "stdout",
     "output_type": "stream",
     "text": [
      "[ 0.          0.34314575 11.65685425]\n",
      "[ 0.          0.34314575 11.65685425]\n"
     ]
    }
   ],
   "source": [
    "# case 2: eig(A'A) vs. svd(A'A)\n",
    "\n",
    "print(np.sort(np.linalg.eig(A.T@A)[0]))\n",
    "print(np.sort(np.linalg.svd(A.T@A)[1]))"
   ]
  },
  {
   "cell_type": "code",
   "execution_count": 50,
   "id": "2d08add5",
   "metadata": {},
   "outputs": [
    {
     "name": "stdout",
     "output_type": "stream",
     "text": [
      "[0.58578644 1.         3.41421356]\n",
      "[0.49384652 1.10038368 3.68039011]\n"
     ]
    }
   ],
   "source": [
    "# case 3a: eig(A) vs. svd(A), real-valued eigs\n",
    "\n",
    "# need a square matrix for eig\n",
    "A = [ [3,1,0], [1,1,0], [1,1,1]]\n",
    "\n",
    "print(np.sort(np.linalg.eig(A)[0]))\n",
    "print(np.sort(np.linalg.svd(A)[1]))s"
   ]
  },
  {
   "cell_type": "code",
   "execution_count": 61,
   "id": "b7db49de",
   "metadata": {},
   "outputs": [
    {
     "name": "stdout",
     "output_type": "stream",
     "text": [
      "[-0.56925339-1.0517846j -0.56925339+1.0517846j  0.59380473+0.j       ]\n",
      "[0.42226617 1.02318899 1.965752  ]\n"
     ]
    }
   ],
   "source": [
    "# case 3b: eig(A) vs. svd(A), complex eigs\n",
    "\n",
    "# random matrices are likely to give complex eigenvalues\n",
    "A = np.random.randn(3,3)\n",
    "\n",
    "print(np.sort(np.linalg.eig(A)[0]))\n",
    "print(np.sort(np.linalg.svd(A)[1]))"
   ]
  },
  {
   "cell_type": "code",
   "execution_count": 9,
   "id": "3ca48379",
   "metadata": {},
   "outputs": [
    {
     "name": "stdout",
     "output_type": "stream",
     "text": [
      "[0 2 1 4 5 3]\n"
     ]
    }
   ],
   "source": [
    "# U from eigendecomposition of A^TA\n",
    "A = np.random.rand(3,6)\n",
    "Us, Ss, Vs = np.linalg.svd(A)\n",
    "A1 = A.T @ A\n",
    "L, V = np.linalg.eig(A1)\n",
    "\n",
    "sidx = np.argsort(L)[::-1]\n",
    "print(sidx)\n",
    "L = L[sidx]\n",
    "V = V[:,sidx]"
   ]
  },
  {
   "cell_type": "code",
   "execution_count": 19,
   "id": "9d45590f",
   "metadata": {},
   "outputs": [
    {
     "name": "stdout",
     "output_type": "stream",
     "text": [
      "[[-1.02  0.   -0.92 -0.15 -0.69 -0.5 ]\n",
      " [-0.37  0.   -0.7  -0.31  0.34  0.86]\n",
      " [-0.81 -0.    0.49  0.03 -0.31 -0.65]\n",
      " [-0.86 -0.    0.79  0.94  0.72 -0.13]\n",
      " [-1.06  0.   -0.53 -0.05  0.44  0.45]\n",
      " [-0.56 -0.    1.23 -0.92 -0.47  0.64]]\n"
     ]
    }
   ],
   "source": [
    "print(np.round(Vs.T - V, 2))"
   ]
  },
  {
   "cell_type": "code",
   "execution_count": 20,
   "id": "7e4ca59d",
   "metadata": {},
   "outputs": [
    {
     "name": "stdout",
     "output_type": "stream",
     "text": [
      "[ 5.03713499e+00  4.56696442e-01  3.36194039e-01 -8.82429428e-18\n",
      " -1.14325187e-16 -7.12341826e-16]\n",
      " \n",
      "[5.03713499 0.45669644 0.33619404]\n"
     ]
    }
   ],
   "source": [
    "print(L), print(\" \")\n",
    "print(Ss**2)"
   ]
  },
  {
   "cell_type": "code",
   "execution_count": 25,
   "id": "ef024955",
   "metadata": {},
   "outputs": [
    {
     "name": "stdout",
     "output_type": "stream",
     "text": [
      "[[ 0.77 -0.    0.59]\n",
      " [ 0.85 -0.    1.57]\n",
      " [ 1.64  0.   -1.09]]\n"
     ]
    }
   ],
   "source": [
    "U = np.zeros((3,3))\n",
    "for i in range(3):\n",
    "    U[:,i] = A@V[:,i].T/np.sqrt(L[i])\n",
    "\n",
    "print(np.round(U-Us,2))"
   ]
  },
  {
   "cell_type": "code",
   "execution_count": null,
   "id": "9ae8b2a4",
   "metadata": {},
   "outputs": [],
   "source": []
  }
 ],
 "metadata": {
  "kernelspec": {
   "display_name": "Python 3 (ipykernel)",
   "language": "python",
   "name": "python3"
  },
  "language_info": {
   "codemirror_mode": {
    "name": "ipython",
    "version": 3
   },
   "file_extension": ".py",
   "mimetype": "text/x-python",
   "name": "python",
   "nbconvert_exporter": "python",
   "pygments_lexer": "ipython3",
   "version": "3.11.3"
  }
 },
 "nbformat": 4,
 "nbformat_minor": 5
}
