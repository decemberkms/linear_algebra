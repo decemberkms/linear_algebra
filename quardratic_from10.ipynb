{
 "cells": [
  {
   "cell_type": "code",
   "execution_count": 1,
   "id": "1218a187",
   "metadata": {},
   "outputs": [],
   "source": [
    "import numpy as np\n",
    "import pandas as pd\n",
    "from matplotlib import pyplot as plt\n",
    "import math\n",
    "from sympy import *\n",
    "\n",
    "import scipy\n",
    "import numpy as np\n",
    "import matplotlib.pyplot as plt\n",
    "from sympy import *\n",
    "import scipy.io as sio\n",
    "from mpl_toolkits.mplot3d import Axes3D"
   ]
  },
  {
   "cell_type": "code",
   "execution_count": 8,
   "id": "a7564c96",
   "metadata": {},
   "outputs": [
    {
     "name": "stdout",
     "output_type": "stream",
     "text": [
      "[[130]]\n"
     ]
    }
   ],
   "source": [
    "# matrix and vector\n",
    "S = [ [ 1,  3, -2], \n",
    "      [ 0,  3,  4],\n",
    "      [-5, -2,  4] ]\n",
    "\n",
    "w = np.transpose([ [-2, 4, 3] ])\n",
    "\n",
    "# compute the quadratic form\n",
    "qf = w.T@S@w\n",
    "\n",
    "print(qf)"
   ]
  },
  {
   "cell_type": "code",
   "execution_count": 3,
   "id": "9c6df4e9",
   "metadata": {
    "scrolled": true
   },
   "outputs": [
    {
     "data": {
      "image/png": "[encoded data removed]",
      "text/plain": [
       "<Figure size 640x480 with 3 Axes>"
      ]
     },
     "metadata": {},
     "output_type": "display_data"
    }
   ],
   "source": [
    "n = len(w) # used for plotting\n",
    "\n",
    "# show the matrices\n",
    "plt.subplot(131)\n",
    "plt.imshow(S)\n",
    "plt.axis('off')\n",
    "plt.title('Matrix S')\n",
    "\n",
    "plt.subplot(132)\n",
    "plt.imshow(w)\n",
    "plt.axis('off')\n",
    "plt.title('Vector w')\n",
    "\n",
    "plt.subplot(133)\n",
    "plt.imshow(qf)\n",
    "plt.title('Quadratic form: w$^T$Sw')\n",
    "plt.axis('off')\n",
    "\n",
    "plt.show()"
   ]
  },
  {
   "cell_type": "code",
   "execution_count": null,
   "id": "47309c0e",
   "metadata": {},
   "outputs": [],
   "source": []
  },
  {
   "cell_type": "code",
   "execution_count": null,
   "id": "87a6b888",
   "metadata": {},
   "outputs": [],
   "source": []
  },
  {
   "cell_type": "code",
   "execution_count": null,
   "id": "93727740",
   "metadata": {},
   "outputs": [],
   "source": []
  }
 ],
 "metadata": {
  "kernelspec": {
   "display_name": "Python 3 (ipykernel)",
   "language": "python",
   "name": "python3"
  },
  "language_info": {
   "codemirror_mode": {
    "name": "ipython",
    "version": 3
   },
   "file_extension": ".py",
   "mimetype": "text/x-python",
   "name": "python",
   "nbconvert_exporter": "python",
   "pygments_lexer": "ipython3",
   "version": "3.11.3"
  }
 },
 "nbformat": 4,
 "nbformat_minor": 5
}
