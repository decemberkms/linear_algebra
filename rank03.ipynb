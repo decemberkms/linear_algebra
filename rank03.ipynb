{
 "cells": [
  {
   "cell_type": "code",
   "execution_count": 1,
   "id": "fa2fd2ad",
   "metadata": {},
   "outputs": [],
   "source": [
    "import numpy as np\n",
    "import pandas as pd\n",
    "from matplotlib import pyplot as plt\n",
    "import math"
   ]
  },
  {
   "cell_type": "code",
   "execution_count": 62,
   "id": "ff9c67da",
   "metadata": {},
   "outputs": [
    {
     "name": "stdout",
     "output_type": "stream",
     "text": [
      " rankg 4\n",
      "[[-0.59478598 -0.9000241  -0.27214805  0.25014818  1.05411655  0.38431334]\n",
      " [-0.61107858 -1.84204688  0.76862682 -0.5061341   0.6543975   0.41761338]\n",
      " [-1.77691438  2.35392555  0.53564292  0.18759256  1.90401967  0.76688968]\n",
      " [-1.77691438  2.35392555  0.53564292  0.18759256  1.90401967  0.76688968]]\n",
      "[[-0.59478598 -0.9000241  -0.27214805  0.25014818  1.05411655  0.38431334]\n",
      " [-0.61107858 -1.84204688  0.76862682 -0.5061341   0.6543975   0.41761338]\n",
      " [-1.77691438  2.35392555  0.53564292  0.18759256  1.90401967  0.76688968]\n",
      " [-1.77691438  2.35392555  0.53564292  0.18759256  1.90401967  0.76688968]]\n",
      " rankg 3\n"
     ]
    }
   ],
   "source": [
    "# compute Rank\n",
    "m, n = 4, 6\n",
    "\n",
    "# random number matrix is almost always full rank\n",
    "A = np.random.randn(m, n)\n",
    "\n",
    "# what is the largest possible rank?\n",
    "ra = np.linalg.matrix_rank(A)\n",
    "print(\" rankg {}\".format(ra))\n",
    "\n",
    "# set last column to be repeat of penultimate column\n",
    "B = A\n",
    "# B[:, -1] = B[:, -2]\n",
    "B[-1, :] = B[-2, :]\n",
    "print(A)\n",
    "print(B)\n",
    "rb = np.linalg.matrix_rank(B)\n",
    "print(\" rankg {}\".format(rb))\n"
   ]
  },
  {
   "cell_type": "code",
   "execution_count": null,
   "id": "6b73dd51",
   "metadata": {},
   "outputs": [],
   "source": []
  },
  {
   "cell_type": "code",
   "execution_count": null,
   "id": "7aa252f6",
   "metadata": {},
   "outputs": [],
   "source": []
  },
  {
   "cell_type": "code",
   "execution_count": null,
   "id": "7fc8131d",
   "metadata": {},
   "outputs": [],
   "source": []
  },
  {
   "cell_type": "code",
   "execution_count": null,
   "id": "3ce92a25",
   "metadata": {},
   "outputs": [],
   "source": []
  },
  {
   "cell_type": "code",
   "execution_count": null,
   "id": "49d51de2",
   "metadata": {},
   "outputs": [],
   "source": []
  },
  {
   "cell_type": "code",
   "execution_count": null,
   "id": "861f6937",
   "metadata": {},
   "outputs": [],
   "source": []
  },
  {
   "cell_type": "code",
   "execution_count": null,
   "id": "c1e0a027",
   "metadata": {},
   "outputs": [],
   "source": []
  },
  {
   "cell_type": "code",
   "execution_count": null,
   "id": "5c209305",
   "metadata": {},
   "outputs": [],
   "source": []
  },
  {
   "cell_type": "code",
   "execution_count": null,
   "id": "5db3826b",
   "metadata": {},
   "outputs": [],
   "source": []
  },
  {
   "cell_type": "code",
   "execution_count": null,
   "id": "edbff7fb",
   "metadata": {},
   "outputs": [],
   "source": []
  }
 ],
 "metadata": {
  "kernelspec": {
   "display_name": "Python 3 (ipykernel)",
   "language": "python",
   "name": "python3"
  },
  "language_info": {
   "codemirror_mode": {
    "name": "ipython",
    "version": 3
   },
   "file_extension": ".py",
   "mimetype": "text/x-python",
   "name": "python",
   "nbconvert_exporter": "python",
   "pygments_lexer": "ipython3",
   "version": "3.11.3"
  }
 },
 "nbformat": 4,
 "nbformat_minor": 5
}
