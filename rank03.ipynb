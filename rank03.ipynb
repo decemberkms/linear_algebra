{
 "cells": [
  {
   "cell_type": "code",
   "execution_count": 1,
   "id": "fa2fd2ad",
   "metadata": {},
   "outputs": [],
   "source": [
    "import numpy as np\n",
    "import pandas as pd\n",
    "from matplotlib import pyplot as plt\n",
    "import math"
   ]
  },
  {
   "cell_type": "code",
   "execution_count": 62,
   "id": "ff9c67da",
   "metadata": {},
   "outputs": [
    {
     "name": "stdout",
     "output_type": "stream",
     "text": [
      " rankg 4\n",
      "[[-0.59478598 -0.9000241  -0.27214805  0.25014818  1.05411655  0.38431334]\n",
      " [-0.61107858 -1.84204688  0.76862682 -0.5061341   0.6543975   0.41761338]\n",
      " [-1.77691438  2.35392555  0.53564292  0.18759256  1.90401967  0.76688968]\n",
      " [-1.77691438  2.35392555  0.53564292  0.18759256  1.90401967  0.76688968]]\n",
      "[[-0.59478598 -0.9000241  -0.27214805  0.25014818  1.05411655  0.38431334]\n",
      " [-0.61107858 -1.84204688  0.76862682 -0.5061341   0.6543975   0.41761338]\n",
      " [-1.77691438  2.35392555  0.53564292  0.18759256  1.90401967  0.76688968]\n",
      " [-1.77691438  2.35392555  0.53564292  0.18759256  1.90401967  0.76688968]]\n",
      " rankg 3\n"
     ]
    }
   ],
   "source": [
    "# compute Rank\n",
    "m, n = 4, 6\n",
    "\n",
    "# random number matrix is almost always full rank\n",
    "A = np.random.randn(m, n)\n",
    "\n",
    "# what is the largest possible rank?\n",
    "ra = np.linalg.matrix_rank(A)\n",
    "print(\" rankg {}\".format(ra))\n",
    "\n",
    "# set last column to be repeat of penultimate column\n",
    "B = A\n",
    "# B[:, -1] = B[:, -2]\n",
    "B[-1, :] = B[-2, :]\n",
    "print(A)\n",
    "print(B)\n",
    "rb = np.linalg.matrix_rank(B)\n",
    "print(\" rankg {}\".format(rb))\n"
   ]
  },
  {
   "cell_type": "code",
   "execution_count": 5,
   "id": "6b73dd51",
   "metadata": {
    "scrolled": false
   },
   "outputs": [
    {
     "name": "stdout",
     "output_type": "stream",
     "text": [
      "(10, 10)\n",
      "4\n",
      "(8, 47)\n",
      "3\n"
     ]
    }
   ],
   "source": [
    "# how to make a matrix a certain rank\n",
    "# random number matrix has the maximum possible rank (assumably)\n",
    "A = np.random.randn(10,4)\n",
    "B = np.random.randn(4,10)\n",
    "C = A @ B\n",
    "print(np.shape(C))\n",
    "# print(C)\n",
    "print(np.linalg.matrix_rank(C))\n",
    "\n",
    "m = 8\n",
    "n = 47\n",
    "r = 3\n",
    "\n",
    "A = np.random.randn(m,r) @ np.random.randn(r,n)\n",
    "print(np.shape(A))\n",
    "# print(A)\n",
    "print(np.linalg.matrix_rank(A))"
   ]
  },
  {
   "cell_type": "code",
   "execution_count": 11,
   "id": "7aa252f6",
   "metadata": {},
   "outputs": [
    {
     "name": "stdout",
     "output_type": "stream",
     "text": [
      "5\n",
      "0\n",
      "5\n",
      "5\n"
     ]
    }
   ],
   "source": [
    "# scalar multiplication is invariant to rank\n",
    "A = np.random.randn(5,5)\n",
    "B = np.random.randn(5,5)\n",
    "# exception 0\n",
    "\n",
    "\n",
    "print(np.linalg.matrix_rank(A))\n",
    "print(np.linalg.matrix_rank(A*3))\n",
    "print(np.linalg.matrix_rank(B))\n",
    "print(np.linalg.matrix_rank(B*5))"
   ]
  },
  {
   "cell_type": "code",
   "execution_count": 20,
   "id": "7fc8131d",
   "metadata": {},
   "outputs": [
    {
     "name": "stdout",
     "output_type": "stream",
     "text": [
      "[[-0.87260374  1.89718078  1.1518572 ]\n",
      " [-1.57211677  0.12975003  1.14269265]\n",
      " [-1.1817336   0.47793497 -1.42386515]]\n",
      "[[-0.87260374 -1.57211677 -1.1817336 ]\n",
      " [ 1.89718078  0.12975003  0.47793497]\n",
      " [ 1.1518572   1.14269265 -1.42386515]]\n",
      "[[5.68750722 2.93421299 0.29782489]\n",
      " [2.93421299 3.7941327  0.29279507]\n",
      " [0.29782489 0.29279507 3.65230811]]\n",
      "[[ 4.62948275 -2.42426106 -1.11893188]\n",
      " [-2.42426106  3.84455183  1.6530308 ]\n",
      " [-1.11893188  1.6530308   4.65991345]]\n"
     ]
    }
   ],
   "source": [
    "A = np.random.randn(3,3)\n",
    "print(A)\n",
    "print(A.T)\n",
    "print(A@A.T)\n",
    "print(A.T@A)"
   ]
  },
  {
   "cell_type": "code",
   "execution_count": 33,
   "id": "3ce92a25",
   "metadata": {},
   "outputs": [
    {
     "name": "stdout",
     "output_type": "stream",
     "text": [
      "A\n",
      "2\n",
      "2\n",
      "2\n",
      "2\n",
      "B\n",
      "2\n",
      "2\n",
      "2\n",
      "2\n",
      "shape\n",
      "(5, 5)\n",
      "(5, 5)\n",
      "2\n",
      "4\n"
     ]
    }
   ],
   "source": [
    "A = np.random.randn(2, 5)\n",
    "B = np.random.randn(2, 5)\n",
    "\n",
    "print(\"A\")\n",
    "print(np.linalg.matrix_rank(A))\n",
    "print(np.linalg.matrix_rank(A.T))\n",
    "print(np.linalg.matrix_rank(A.T@A))\n",
    "print(np.linalg.matrix_rank(A@A.T))\n",
    "AtA = A.T@A\n",
    "\n",
    "print(\"B\")\n",
    "print(np.linalg.matrix_rank(B))\n",
    "print(np.linalg.matrix_rank(B.T))\n",
    "print(np.linalg.matrix_rank(B@B.T))\n",
    "print(np.linalg.matrix_rank(B.T@B))\n",
    "BtB = B.T@B\n",
    "\n",
    "print(\"shape\")\n",
    "print(np.shape(AtA))\n",
    "print(np.shape(BtB))\n",
    "print(np.linalg.matrix_rank(AtA@BtB))\n",
    "print(np.linalg.matrix_rank(AtA + BtB))"
   ]
  },
  {
   "cell_type": "code",
   "execution_count": 92,
   "id": "49d51de2",
   "metadata": {
    "scrolled": false
   },
   "outputs": [
    {
     "name": "stdout",
     "output_type": "stream",
     "text": [
      "[[-13. -13. -13. -13.  30.]\n",
      " [-16. -16. -16. -16.  18.]\n",
      " [-11. -11. -11. -11.  14.]\n",
      " [ 57.  57.  57.  57. -17.]\n",
      " [-17. -17. -17. -17.  50.]]\n",
      "2\n",
      "5\n"
     ]
    }
   ],
   "source": [
    "# shifting matrix\n",
    "m = 5\n",
    "\n",
    "A = np.random.randn(m,m)\n",
    "A = np.round( 10 * A.T@A)\n",
    "\n",
    "# reduced the rank\n",
    "A[:,0] = A[:,3]\n",
    "A[:,1] = A[:,3]\n",
    "A[:,2] = A[:,3]\n",
    "print(A)\n",
    "#shift amount\n",
    "l = .01\n",
    "\n",
    "B = A + l*np.eye(m,m)\n",
    "print(np.linalg.matrix_rank(A))\n",
    "print(np.linalg.matrix_rank(B))"
   ]
  },
  {
   "cell_type": "code",
   "execution_count": 114,
   "id": "861f6937",
   "metadata": {
    "scrolled": true
   },
   "outputs": [
    {
     "name": "stdout",
     "output_type": "stream",
     "text": [
      "[[1]\n",
      " [2]\n",
      " [3]\n",
      " [4]]\n",
      "[[4 0]\n",
      " [3 4]\n",
      " [6 0]\n",
      " [2 1]]\n",
      "2\n",
      "2\n",
      "1\n",
      "[[4 0 1]\n",
      " [3 4 2]\n",
      " [6 0 3]\n",
      " [2 1 4]]\n",
      "3\n",
      "2\n",
      "1\n"
     ]
    }
   ],
   "source": [
    "# is this vector in the span of these matrices?\n",
    "V = np.array([[1, 2, 3, 4]]).T\n",
    "print(V)\n",
    "S = np.array([[4, 3, 6 ,2], [0, 4, 0, 1]]).T\n",
    "T = np.array([[1, 2, 2 ,2], [0, 0, 1, 2]]).T\n",
    "print(S)\n",
    "print(np.linalg.matrix_rank(S))\n",
    "print(np.linalg.matrix_rank(T))\n",
    "print(np.linalg.matrix_rank(V))\n",
    "\n",
    "Sv = np.concatenate((S,V), axis = 1)\n",
    "Tv = np.concatenate((T,V), axis = 1)\n",
    "print(Sv)\n",
    "print(np.linalg.matrix_rank(Sv))\n",
    "print(np.linalg.matrix_rank(Tv))\n",
    "print(np.linalg.matrix_rank(V))\n"
   ]
  },
  {
   "cell_type": "code",
   "execution_count": 131,
   "id": "c1e0a027",
   "metadata": {},
   "outputs": [
    {
     "name": "stdout",
     "output_type": "stream",
     "text": [
      "[[3 0]\n",
      " [5 2]\n",
      " [1 2]]\n",
      "[[-3]\n",
      " [ 1]\n",
      " [ 5]]\n"
     ]
    },
    {
     "name": "stderr",
     "output_type": "stream",
     "text": [
      "/var/folders/lv/t_x0qxn13y374h66r__crswh0000gn/T/ipykernel_3799/2221991442.py:12: RuntimeWarning: invalid value encountered in power\n",
      "  z1 = (-cp[0]**xx - cp[1]**yy)/cp[2]\n"
     ]
    },
    {
     "ename": "ValueError",
     "evalue": "setting an array element with a sequence. The requested array has an inhomogeneous shape after 1 dimensions. The detected shape was (2,) + inhomogeneous part.",
     "output_type": "error",
     "traceback": [
      "\u001b[0;31m---------------------------------------------------------------------------\u001b[0m",
      "\u001b[0;31mAttributeError\u001b[0m                            Traceback (most recent call last)",
      "File \u001b[0;32m~/anaconda3/lib/python3.11/site-packages/numpy/core/fromnumeric.py:2033\u001b[0m, in \u001b[0;36mshape\u001b[0;34m(a)\u001b[0m\n\u001b[1;32m   2032\u001b[0m \u001b[38;5;28;01mtry\u001b[39;00m:\n\u001b[0;32m-> 2033\u001b[0m     result \u001b[38;5;241m=\u001b[39m a\u001b[38;5;241m.\u001b[39mshape\n\u001b[1;32m   2034\u001b[0m \u001b[38;5;28;01mexcept\u001b[39;00m \u001b[38;5;167;01mAttributeError\u001b[39;00m:\n",
      "\u001b[0;31mAttributeError\u001b[0m: 'list' object has no attribute 'shape'",
      "\nDuring handling of the above exception, another exception occurred:\n",
      "\u001b[0;31mValueError\u001b[0m                                Traceback (most recent call last)",
      "Cell \u001b[0;32mIn[131], line 20\u001b[0m\n\u001b[1;32m     18\u001b[0m ax\u001b[38;5;241m.\u001b[39mplot([\u001b[38;5;241m0\u001b[39m, S[\u001b[38;5;241m0\u001b[39m,\u001b[38;5;241m0\u001b[39m]], [\u001b[38;5;241m0\u001b[39m, S[\u001b[38;5;241m1\u001b[39m,\u001b[38;5;241m0\u001b[39m]], [\u001b[38;5;241m0\u001b[39m, S[\u001b[38;5;241m2\u001b[39m,\u001b[38;5;241m0\u001b[39m]], \u001b[38;5;124m'\u001b[39m\u001b[38;5;124mk\u001b[39m\u001b[38;5;124m'\u001b[39m)\n\u001b[1;32m     19\u001b[0m ax\u001b[38;5;241m.\u001b[39mplot([\u001b[38;5;241m0\u001b[39m, S[\u001b[38;5;241m0\u001b[39m,\u001b[38;5;241m1\u001b[39m]], [\u001b[38;5;241m0\u001b[39m, S[\u001b[38;5;241m1\u001b[39m,\u001b[38;5;241m1\u001b[39m]], [\u001b[38;5;241m0\u001b[39m, S[\u001b[38;5;241m2\u001b[39m,\u001b[38;5;241m1\u001b[39m]], \u001b[38;5;124m'\u001b[39m\u001b[38;5;124mk\u001b[39m\u001b[38;5;124m'\u001b[39m)\n\u001b[0;32m---> 20\u001b[0m ax\u001b[38;5;241m.\u001b[39mplot([\u001b[38;5;241m0\u001b[39m, v[\u001b[38;5;241m0\u001b[39m]], [\u001b[38;5;241m0\u001b[39m, v[\u001b[38;5;241m1\u001b[39m]], [\u001b[38;5;241m0\u001b[39m, v[\u001b[38;5;241m2\u001b[39m]], \u001b[38;5;124m'\u001b[39m\u001b[38;5;124mr\u001b[39m\u001b[38;5;124m'\u001b[39m)\n\u001b[1;32m     21\u001b[0m ax\u001b[38;5;241m.\u001b[39mview_init(elev\u001b[38;5;241m=\u001b[39m\u001b[38;5;241m100\u001b[39m, azim\u001b[38;5;241m=\u001b[39m\u001b[38;5;241m0\u001b[39m)\n\u001b[1;32m     22\u001b[0m plt\u001b[38;5;241m.\u001b[39mshow()\n",
      "File \u001b[0;32m~/anaconda3/lib/python3.11/site-packages/mpl_toolkits/mplot3d/axes3d.py:1485\u001b[0m, in \u001b[0;36mAxes3D.plot\u001b[0;34m(self, xs, ys, zdir, *args, **kwargs)\u001b[0m\n\u001b[1;32m   1482\u001b[0m     zs \u001b[38;5;241m=\u001b[39m kwargs\u001b[38;5;241m.\u001b[39mpop(\u001b[38;5;124m'\u001b[39m\u001b[38;5;124mzs\u001b[39m\u001b[38;5;124m'\u001b[39m, \u001b[38;5;241m0\u001b[39m)\n\u001b[1;32m   1484\u001b[0m \u001b[38;5;66;03m# Match length\u001b[39;00m\n\u001b[0;32m-> 1485\u001b[0m zs \u001b[38;5;241m=\u001b[39m np\u001b[38;5;241m.\u001b[39mbroadcast_to(zs, np\u001b[38;5;241m.\u001b[39mshape(xs))\n\u001b[1;32m   1487\u001b[0m lines \u001b[38;5;241m=\u001b[39m \u001b[38;5;28msuper\u001b[39m()\u001b[38;5;241m.\u001b[39mplot(xs, ys, \u001b[38;5;241m*\u001b[39margs, \u001b[38;5;241m*\u001b[39m\u001b[38;5;241m*\u001b[39mkwargs)\n\u001b[1;32m   1488\u001b[0m \u001b[38;5;28;01mfor\u001b[39;00m line \u001b[38;5;129;01min\u001b[39;00m lines:\n",
      "File \u001b[0;32m<__array_function__ internals>:200\u001b[0m, in \u001b[0;36mshape\u001b[0;34m(*args, **kwargs)\u001b[0m\n",
      "File \u001b[0;32m~/anaconda3/lib/python3.11/site-packages/numpy/core/fromnumeric.py:2035\u001b[0m, in \u001b[0;36mshape\u001b[0;34m(a)\u001b[0m\n\u001b[1;32m   2033\u001b[0m     result \u001b[38;5;241m=\u001b[39m a\u001b[38;5;241m.\u001b[39mshape\n\u001b[1;32m   2034\u001b[0m \u001b[38;5;28;01mexcept\u001b[39;00m \u001b[38;5;167;01mAttributeError\u001b[39;00m:\n\u001b[0;32m-> 2035\u001b[0m     result \u001b[38;5;241m=\u001b[39m asarray(a)\u001b[38;5;241m.\u001b[39mshape\n\u001b[1;32m   2036\u001b[0m \u001b[38;5;28;01mreturn\u001b[39;00m result\n",
      "\u001b[0;31mValueError\u001b[0m: setting an array element with a sequence. The requested array has an inhomogeneous shape after 1 dimensions. The detected shape was (2,) + inhomogeneous part."
     ]
    },
    {
     "data": {
      "image/png": "[encoded data removed]",
      "text/plain": [
       "<Figure size 640x480 with 1 Axes>"
      ]
     },
     "metadata": {},
     "output_type": "display_data"
    }
   ],
   "source": [
    "# matrix S\n",
    "S = np.array([[3,5,1],[0,2,2]]).T\n",
    "\n",
    "v = np.array([[-3,1,5]]).T\n",
    "# v = np.array([[1,7,3]]).T\n",
    "print(S)\n",
    "print(v)\n",
    "\n",
    "xx, yy = np.meshgrid(np.linspace(-5,5,10), np.linspace(-5,5,10))\n",
    "cp = np.cross(S[:,0], S[:,1])\n",
    "# z1 = (-cp[0]**xx - cp[1]**yy)/cp[2]\n",
    "z1 = (-cp[0]**xx - cp[1]**yy)/cp[2]\n",
    "fig = plt.figure()\n",
    "ax = fig.add_subplot(projection = '3d')\n",
    "\n",
    "ax.plot_surface(xx,yy,z1,alpha=.2)\n",
    "\n",
    "ax.plot([0, S[0,0]], [0, S[1,0]], [0, S[2,0]], 'k')\n",
    "ax.plot([0, S[0,1]], [0, S[1,1]], [0, S[2,1]], 'k')\n",
    "ax.plot([0, v[0]], [0, v[1]], [0, v[2]], 'r')\n",
    "ax.view_init(elev=100, azim=0)\n",
    "plt.show()"
   ]
  },
  {
   "cell_type": "code",
   "execution_count": null,
   "id": "5c209305",
   "metadata": {},
   "outputs": [],
   "source": []
  },
  {
   "cell_type": "code",
   "execution_count": null,
   "id": "5db3826b",
   "metadata": {},
   "outputs": [],
   "source": []
  },
  {
   "cell_type": "code",
   "execution_count": null,
   "id": "edbff7fb",
   "metadata": {},
   "outputs": [],
   "source": []
  }
 ],
 "metadata": {
  "kernelspec": {
   "display_name": "Python 3 (ipykernel)",
   "language": "python",
   "name": "python3"
  },
  "language_info": {
   "codemirror_mode": {
    "name": "ipython",
    "version": 3
   },
   "file_extension": ".py",
   "mimetype": "text/x-python",
   "name": "python",
   "nbconvert_exporter": "python",
   "pygments_lexer": "ipython3",
   "version": "3.11.3"
  }
 },
 "nbformat": 4,
 "nbformat_minor": 5
}
