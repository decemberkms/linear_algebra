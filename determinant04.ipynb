{
 "cells": [
  {
   "cell_type": "code",
   "execution_count": 1,
   "id": "64ce8f54",
   "metadata": {},
   "outputs": [],
   "source": [
    "import numpy as np\n",
    "import pandas as pd\n",
    "from matplotlib import pyplot as plt\n",
    "import math"
   ]
  },
  {
   "cell_type": "code",
   "execution_count": 33,
   "id": "0afbad07",
   "metadata": {},
   "outputs": [
    {
     "name": "stdout",
     "output_type": "stream",
     "text": [
      "0.0\n",
      "4.2125219863278806e+61\n"
     ]
    }
   ],
   "source": [
    "A = np.array([ [1,3], [1,3]])\n",
    "print(np.linalg.det(A))\n",
    "\n",
    "m = 100\n",
    "A = np.random.randn(m, m)\n",
    "A[:,0] = A[:,1]\n",
    "print(np.linalg.det(A))"
   ]
  },
  {
   "cell_type": "code",
   "execution_count": 26,
   "id": "e256186b",
   "metadata": {},
   "outputs": [
    {
     "name": "stdout",
     "output_type": "stream",
     "text": [
      "original  6.12847343831251\n",
      "Row swapp  -6.12847343831251\n",
      "Row swapp  6.12847343831251\n"
     ]
    }
   ],
   "source": [
    "A = np.random.randn(6, 6)\n",
    "print(\"original \", np.linalg.det(A))\n",
    "T= A[[1,0,2,3,4,5], :]\n",
    "print(\"Row swapp \", np.linalg.det(T))\n",
    "T= A[[1,0,2,4,3,5], :]\n",
    "print(\"Row swapp \", np.linalg.det(T))"
   ]
  },
  {
   "cell_type": "code",
   "execution_count": null,
   "id": "d034b33d",
   "metadata": {},
   "outputs": [],
   "source": []
  },
  {
   "cell_type": "code",
   "execution_count": null,
   "id": "6a7c807e",
   "metadata": {},
   "outputs": [],
   "source": []
  }
 ],
 "metadata": {
  "kernelspec": {
   "display_name": "Python 3 (ipykernel)",
   "language": "python",
   "name": "python3"
  },
  "language_info": {
   "codemirror_mode": {
    "name": "ipython",
    "version": 3
   },
   "file_extension": ".py",
   "mimetype": "text/x-python",
   "name": "python",
   "nbconvert_exporter": "python",
   "pygments_lexer": "ipython3",
   "version": "3.11.3"
  }
 },
 "nbformat": 4,
 "nbformat_minor": 5
}
