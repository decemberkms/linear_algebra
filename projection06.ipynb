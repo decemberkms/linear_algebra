{
 "cells": [
  {
   "cell_type": "code",
   "execution_count": 1,
   "id": "cbabc933",
   "metadata": {},
   "outputs": [],
   "source": [
    "import numpy as np\n",
    "import pandas as pd\n",
    "from matplotlib import pyplot as plt\n",
    "import math"
   ]
  },
  {
   "cell_type": "code",
   "execution_count": 15,
   "id": "a27b5b4a",
   "metadata": {},
   "outputs": [
    {
     "name": "stdout",
     "output_type": "stream",
     "text": [
      "0.9310344827586207\n"
     ]
    },
    {
     "data": {
      "image/png": "[encoded data removed]",
      "text/plain": [
       "<Figure size 640x480 with 1 Axes>"
      ]
     },
     "metadata": {},
     "output_type": "display_data"
    }
   ],
   "source": [
    "# point b \n",
    "b = np.array([1,5])\n",
    "\n",
    "# line a\n",
    "a = np.array([2,5])\n",
    "\n",
    "beta = (a.T@b) / (a.T@a)\n",
    "print(beta)\n",
    "\n",
    "#draw\n",
    "plt.plot(b[0],b[1], 'ko', label = 'b')\n",
    "plt.plot([0, a[0]], [0, a[1]], 'b', label = 'a')\n",
    "\n",
    "# new plot projection line\n",
    "plt.plot([b[0], beta*a[0]], [b[1], beta*a[1]], 'r--', label = r'b-$\\beta$a')\n",
    "plt.axis('square')\n",
    "plt.grid()\n",
    "plt.legend()\n",
    "plt.axis((-6,6,-6,6))\n",
    "plt.show()"
   ]
  },
  {
   "cell_type": "code",
   "execution_count": 20,
   "id": "be2a883b",
   "metadata": {},
   "outputs": [
    {
     "name": "stdout",
     "output_type": "stream",
     "text": [
      "[[-0.34 -0.22 -0.07 -0.03  0.21 -0.05 -0.57 -0.13 -0.2   0.11]]\n",
      "[[-0.34 -0.22 -0.07 -0.03  0.21 -0.05 -0.57 -0.13 -0.2   0.11]]\n"
     ]
    }
   ],
   "source": [
    "# goal here to solve Ax=b for x\n",
    "\n",
    "m, n = 16, 10\n",
    "\n",
    "# vector b\n",
    "b = np.random.randn(m, 1)\n",
    "\n",
    "#matrix A\n",
    "A = np.random.randn(m, n)\n",
    "\n",
    "# solution using explicit inverse\n",
    "x1 = np.linalg.inv(A.T@A) @ (A.T@b)\n",
    "\n",
    "#python solution (better method)\n",
    "x2 = np.linalg.solve(A.T@A, A.T@b)\n",
    "\n",
    "# show the results are the same\n",
    "print(np.round(x1.T, 2))\n",
    "print(np.round(x2.T, 2))"
   ]
  },
  {
   "cell_type": "code",
   "execution_count": 23,
   "id": "5024ec46",
   "metadata": {},
   "outputs": [
    {
     "name": "stdout",
     "output_type": "stream",
     "text": [
      "[[ 1.72065588 -0.10727494  0.37129117]]\n",
      "[[ 1.72760489 -0.0566322   0.34479066]]\n"
     ]
    }
   ],
   "source": [
    "# gemometric perspective in R^3\n",
    "\n",
    "m, n = 3, 2\n",
    "\n",
    "# vector b\n",
    "b = np.random.randn(m, 1)\n",
    "\n",
    "#matrix A\n",
    "A = np.random.randn(m, n)\n",
    "\n",
    "#solution\n",
    "x = np.linalg.solve(A.T@A, A.T@b)\n",
    "Ax = A@x\n",
    "\n",
    "# show the results are the same\n",
    "print(b.T)\n",
    "print(Ax.T)"
   ]
  },
  {
   "cell_type": "code",
   "execution_count": 26,
   "id": "6e8ecb96",
   "metadata": {
    "scrolled": true
   },
   "outputs": [
    {
     "ename": "TypeError",
     "evalue": "FigureBase.gca() got an unexpected keyword argument 'projection'",
     "output_type": "error",
     "traceback": [
      "\u001b[0;31m---------------------------------------------------------------------------\u001b[0m",
      "\u001b[0;31mTypeError\u001b[0m                                 Traceback (most recent call last)",
      "Cell \u001b[0;32mIn[26], line 3\u001b[0m\n\u001b[1;32m      1\u001b[0m \u001b[38;5;66;03m## plot\u001b[39;00m\n\u001b[1;32m      2\u001b[0m fig \u001b[38;5;241m=\u001b[39m plt\u001b[38;5;241m.\u001b[39mfigure(figsize\u001b[38;5;241m=\u001b[39mplt\u001b[38;5;241m.\u001b[39mfigaspect(\u001b[38;5;241m1\u001b[39m))\n\u001b[0;32m----> 3\u001b[0m ax \u001b[38;5;241m=\u001b[39m fig\u001b[38;5;241m.\u001b[39mgca(projection\u001b[38;5;241m=\u001b[39m\u001b[38;5;124m'\u001b[39m\u001b[38;5;124m3d\u001b[39m\u001b[38;5;124m'\u001b[39m)\n\u001b[1;32m      4\u001b[0m \u001b[38;5;66;03m# ax = fig.add_subplot(projection = '3d')\u001b[39;00m\n\u001b[1;32m      5\u001b[0m \n\u001b[1;32m      6\u001b[0m \u001b[38;5;66;03m# plot the vectors\u001b[39;00m\n\u001b[1;32m      7\u001b[0m ax\u001b[38;5;241m.\u001b[39mplot([\u001b[38;5;241m0\u001b[39m, b[\u001b[38;5;241m0\u001b[39m]],[\u001b[38;5;241m0\u001b[39m, b[\u001b[38;5;241m1\u001b[39m]],[\u001b[38;5;241m0\u001b[39m, b[\u001b[38;5;241m2\u001b[39m]],\u001b[38;5;124m'\u001b[39m\u001b[38;5;124mr\u001b[39m\u001b[38;5;124m'\u001b[39m)\n",
      "\u001b[0;31mTypeError\u001b[0m: FigureBase.gca() got an unexpected keyword argument 'projection'"
     ]
    },
    {
     "data": {
      "text/plain": [
       "<Figure size 480x480 with 0 Axes>"
      ]
     },
     "metadata": {},
     "output_type": "display_data"
    }
   ],
   "source": [
    "## plot\n",
    "fig = plt.figure(figsize=plt.figaspect(1))\n",
    "ax = fig.gca(projection='3d')\n",
    "# ax = fig.add_subplot(projection = '3d')\n",
    "\n",
    "# plot the vectors\n",
    "ax.plot([0, b[0]],[0, b[1]],[0, b[2]],'r')\n",
    "ax.plot([0, Ax[0]],[0, Ax[1]],[0, Ax[2]],'b')\n",
    "\n",
    "# plot the projection line\n",
    "ax.plot( [Ax[0][0], b[0]],\n",
    "         [Ax[1][0], b[1]],\n",
    "         [Ax[2][0], b[2]], 'g')\n",
    "\n",
    "# now draw plane\n",
    "xx, yy = np.meshgrid(np.linspace(-2,2), np.linspace(-2,2))\n",
    "cp = np.cross(A[:,0],A[:,1])\n",
    "z1 = (-cp[0]*xx - cp[1]*yy)*1./cp[2]\n",
    "ax.plot_surface(xx,yy,z1,alpha=.4)\n",
    "\n",
    "plt.show()"
   ]
  },
  {
   "cell_type": "code",
   "execution_count": 18,
   "id": "846ae679",
   "metadata": {},
   "outputs": [
    {
     "name": "stdout",
     "output_type": "stream",
     "text": [
      "[[-0.70710678  0.          0.70710678]\n",
      " [-0.70710678  0.         -0.70710678]\n",
      " [-0.         -1.          0.        ]]\n",
      "\n",
      "[[-0.70710678  0.        ]\n",
      " [-0.70710678  0.        ]\n",
      " [-0.         -1.        ]]\n"
     ]
    }
   ],
   "source": [
    "# orthogonal maxtrix -\n",
    "A = [[1,0],\n",
    "     [1,0],\n",
    "     [0,1]]\n",
    "\n",
    "# full QR decoposition\n",
    "Q,R = np.linalg.qr(A, \"complete\")\n",
    "print(Q), print(\"\")\n",
    "\n",
    "# economy QR decoposition\n",
    "Q,R = np.linalg.qr(A) # this is default\n",
    "print(Q)\n"
   ]
  },
  {
   "cell_type": "code",
   "execution_count": 17,
   "id": "abab4d02",
   "metadata": {},
   "outputs": [
    {
     "name": "stdout",
     "output_type": "stream",
     "text": [
      "R from QR: \n",
      "[[-3.1623  0.6325 -0.3162]\n",
      " [ 0.     -1.2649  2.2136]]\n",
      "R from Q^TM: \n",
      "[[-3.1623  0.6325 -0.3162]\n",
      " [ 0.     -1.2649  2.2136]]\n",
      "??\n"
     ]
    },
    {
     "data": {
      "text/plain": [
       "[]"
      ]
     },
     "execution_count": 17,
     "metadata": {},
     "output_type": "execute_result"
    },
    {
     "data": {
      "image/png": "[encoded data removed]",
      "text/plain": [
       "<Figure size 640x480 with 1 Axes>"
      ]
     },
     "metadata": {},
     "output_type": "display_data"
    }
   ],
   "source": [
    "M = np.array([[1,1,-2], [3,-1,1]])\n",
    "\n",
    "Q,R = np.linalg.qr(M, \"complete\")\n",
    "\n",
    "print(\"R from QR: \"), print(np.round(R,4))\n",
    "print(\"R from Q^TM: \"), print(np.round(Q.T@M,4))\n",
    "print(\"??\")\n",
    "\n",
    "colorz = \"krg\"\n",
    "\n",
    "for i in range(0, np.shape(M)[1]):\n",
    "    \n",
    "    # original vector M\n",
    "    plt.plot([0, M[0,i]], [0,M[1,i]], colorz[i])\n",
    "    \n",
    "    # vecotr Q\n",
    "    if i < np.shape(Q)[1]:\n",
    "        plt.plot([0, Q[0,i]], [0,Q[1,i]], colorz[i], linestyle=\"-\")\n",
    "    \n",
    "    # vector residual R\n",
    "    plt.plot([0, R[0,i]], [0,R[1,i]], colorz[i], linestyle=\":\")\n",
    "\n",
    "\n",
    "plt.legend([\"M$_1$\", \"Q$_1$\", \"R$_1$\"])\n",
    "plt.axis(\"square\")\n",
    "plt.xlim(-4,4)\n",
    "plt.ylim(-4,4)\n",
    "plt.grid(True)\n",
    "plt.plot()\n",
    "\n"
   ]
  },
  {
   "cell_type": "code",
   "execution_count": 22,
   "id": "7deeaf18",
   "metadata": {},
   "outputs": [
    {
     "name": "stdout",
     "output_type": "stream",
     "text": [
      "[[1. 0. 0. 0.]\n",
      " [0. 1. 0. 0.]\n",
      " [0. 0. 1. 0.]\n",
      " [0. 0. 0. 1.]]\n"
     ]
    },
    {
     "data": {
      "image/png": "[encoded data removed]",
      "text/plain": [
       "<Figure size 640x480 with 1 Axes>"
      ]
     },
     "metadata": {},
     "output_type": "display_data"
    },
    {
     "name": "stdout",
     "output_type": "stream",
     "text": [
      "[[-0.824  0.103 -0.213 -0.515]\n",
      " [-0.284  0.003 -0.635  0.718]\n",
      " [ 0.249  0.932 -0.237 -0.115]\n",
      " [ 0.423 -0.347 -0.703 -0.454]]\n",
      "[[-0.824  0.103 -0.213  0.515]\n",
      " [-0.284  0.003 -0.635 -0.718]\n",
      " [ 0.249  0.932 -0.237  0.115]\n",
      " [ 0.423 -0.347 -0.703  0.454]]\n"
     ]
    }
   ],
   "source": [
    "#  gram-schmidt procedure\n",
    "\n",
    "m, n = 4, 4\n",
    "A = np.random.randn(m,n)\n",
    "Q = np.zeros((m,n))\n",
    "\n",
    "for i in range(n):\n",
    "    Q[:, i] = A[:, i]\n",
    "    a = A[:, i]\n",
    "    \n",
    "    for j in range(i):\n",
    "        q = Q[:, j]\n",
    "        Q[:, i] = Q[:, i] - np.dot(a, q)/ np.dot(q, q) * q\n",
    "    \n",
    "    Q[:,i] = Q[:, i] / np.linalg.norm(Q[:, i])\n",
    "    \n",
    "print(np.round(Q.T@Q,3))\n",
    "plt.imshow(Q.T@Q)\n",
    "plt.show()\n",
    "\n",
    "Q2,R = np.linalg.qr(A, \"complete\")\n",
    "print(np.round(Q,3))\n",
    "print(np.round(Q2,3))"
   ]
  },
  {
   "cell_type": "code",
   "execution_count": null,
   "id": "f0e16794",
   "metadata": {},
   "outputs": [],
   "source": []
  }
 ],
 "metadata": {
  "kernelspec": {
   "display_name": "Python 3 (ipykernel)",
   "language": "python",
   "name": "python3"
  },
  "language_info": {
   "codemirror_mode": {
    "name": "ipython",
    "version": 3
   },
   "file_extension": ".py",
   "mimetype": "text/x-python",
   "name": "python",
   "nbconvert_exporter": "python",
   "pygments_lexer": "ipython3",
   "version": "3.11.3"
  }
 },
 "nbformat": 4,
 "nbformat_minor": 5
}
