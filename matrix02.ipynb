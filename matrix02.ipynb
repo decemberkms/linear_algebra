{
 "cells": [
  {
   "cell_type": "code",
   "execution_count": 1,
   "id": "f8f4cb6d",
   "metadata": {},
   "outputs": [],
   "source": [
    "import numpy as np\n",
    "import pandas as pd"
   ]
  },
  {
   "cell_type": "code",
   "execution_count": 2,
   "id": "7f5e6ed3",
   "metadata": {
    "scrolled": true
   },
   "outputs": [
    {
     "name": "stdout",
     "output_type": "stream",
     "text": [
      "[[-0.60765355  1.44800545  0.6937541   0.41982494 -0.40390922]\n",
      " [ 1.33846562  0.03301089 -1.31074385 -1.00951833  1.46594047]\n",
      " [-0.73783625 -0.16418461  0.07149667 -0.78728732 -2.5271942 ]\n",
      " [-0.99708712  1.4824481   1.52820533  1.0948925  -0.09226473]\n",
      " [-1.81636576 -0.07747032 -0.71614345 -0.13999781 -0.48755959]]\n",
      " \n",
      "[[-0.08646675  0.57982333]\n",
      " [-0.23564776 -0.22698103]\n",
      " [ 0.81121408  0.34513855]\n",
      " [ 1.95709687  1.3530623 ]\n",
      " [ 0.62897095 -0.3812467 ]]\n",
      "[[1. 0. 0.]\n",
      " [0. 1. 0.]\n",
      " [0. 0. 1.]]\n",
      "[[0. 0. 0. 0.]\n",
      " [0. 0. 0. 0.]\n",
      " [0. 0. 0. 0.]\n",
      " [0. 0. 0. 0.]]\n",
      "[[1 0 0 0 0]\n",
      " [0 2 0 0 0]\n",
      " [0 0 3 0 0]\n",
      " [0 0 0 5 0]\n",
      " [0 0 0 0 2]]\n",
      "[[ 2.43744216  0.37837829 -0.1025147   1.06751414  1.24305944]\n",
      " [ 0.19275532  0.53514665  0.569336   -0.68975841 -0.11180472]\n",
      " [ 0.46995667  2.24789364 -0.59589422 -1.46968201  1.40107467]\n",
      " [ 2.81010762 -0.65484835 -0.11992304  1.05720395 -0.8889483 ]\n",
      " [ 0.05496833  0.09312864  0.31889592 -0.39523882  1.31562664]]\n",
      "[[ 2.43744216  0.37837829 -0.1025147   1.06751414  1.24305944]\n",
      " [ 0.          0.53514665  0.569336   -0.68975841 -0.11180472]\n",
      " [ 0.          0.         -0.59589422 -1.46968201  1.40107467]\n",
      " [ 0.          0.          0.          1.05720395 -0.8889483 ]\n",
      " [ 0.          0.          0.          0.          1.31562664]]\n",
      "[[ 2.43744216  0.          0.          0.          0.        ]\n",
      " [ 0.19275532  0.53514665  0.          0.          0.        ]\n",
      " [ 0.46995667  2.24789364 -0.59589422  0.          0.        ]\n",
      " [ 2.81010762 -0.65484835 -0.11992304  1.05720395  0.        ]\n",
      " [ 0.05496833  0.09312864  0.31889592 -0.39523882  1.31562664]]\n",
      "[[-0.26861056 -1.37270681 -3.26999085 -1.46633955 -0.4934022  -0.25229259]\n",
      " [-0.64939584  0.75422569 -1.67455807  0.53220592 -0.91719366  1.24597187]\n",
      " [-2.59071704 -0.15386732 -0.00892089 -1.37512297  0.92144149 -0.84271805]]\n"
     ]
    }
   ],
   "source": [
    "# square vs rectangular\n",
    "S = np.random.randn(5,5)\n",
    "R = np.random.randn(5,2)\n",
    "print(S), print(\" \")\n",
    "print(R)\n",
    "\n",
    "# identity\n",
    "I = np.eye(3)\n",
    "print(I)\n",
    "\n",
    "# zeros\n",
    "Z = np.zeros((4,4))\n",
    "print(Z)\n",
    "\n",
    "# diagonal\n",
    "D = np.diag([1,2,3,5,2])\n",
    "print(D)\n",
    "\n",
    "# trianguler\n",
    "S = np.random.randn(5, 5)\n",
    "U = np.triu(S)\n",
    "L = np.tril(S)\n",
    "print(S)\n",
    "print(U)\n",
    "print(L)\n",
    "\n",
    "#concatenate \n",
    "A = np.random.randn(3, 2)\n",
    "B = np.random.randn(3, 4)\n",
    "C = np.concatenate((A,B), axis = 1)\n",
    "\n",
    "print(C)\n",
    "           "
   ]
  },
  {
   "cell_type": "code",
   "execution_count": 3,
   "id": "3f5759c9",
   "metadata": {
    "scrolled": true
   },
   "outputs": [
    {
     "name": "stdout",
     "output_type": "stream",
     "text": [
      "[[-0.39811281  0.94794486  2.17493474 -1.75979249  0.17215532]\n",
      " [-0.51773226  0.8333872  -1.19937832 -0.6257557   0.43321273]\n",
      " [ 0.51324314  0.83035574  1.38200127  0.9483544   1.87901941]\n",
      " [ 0.8906616  -1.15766407  1.26105518 -0.11857441 -0.65276031]\n",
      " [ 0.75303826 -0.28018247 -0.06450893 -0.01831761  0.09519082]]\n",
      "[[ 0.60188719  0.94794486  2.17493474 -1.75979249  0.17215532]\n",
      " [-0.51773226  1.8333872  -1.19937832 -0.6257557   0.43321273]\n",
      " [ 0.51324314  0.83035574  2.38200127  0.9483544   1.87901941]\n",
      " [ 0.8906616  -1.15766407  1.26105518  0.88142559 -0.65276031]\n",
      " [ 0.75303826 -0.28018247 -0.06450893 -0.01831761  1.09519082]]\n"
     ]
    }
   ],
   "source": [
    "A = np.random.randn(5,4)\n",
    "C = np.random.randn(5,4)\n",
    "A + C\n",
    "\n",
    "#shifting\n",
    "A = np.random.randn(5,5)\n",
    "print(A)\n",
    "A = A + 1*np.eye(5)\n",
    "print(A)"
   ]
  },
  {
   "cell_type": "code",
   "execution_count": 4,
   "id": "16e1408e",
   "metadata": {},
   "outputs": [
    {
     "name": "stdout",
     "output_type": "stream",
     "text": [
      "[[ 2  4]\n",
      " [ 4 10]]\n",
      "[[ 2  4]\n",
      " [ 4 10]]\n"
     ]
    }
   ],
   "source": [
    "M = np.array([[1,2],[2,5]])\n",
    "s = 2\n",
    "print(M*s)\n",
    "print(s*M)"
   ]
  },
  {
   "cell_type": "code",
   "execution_count": 5,
   "id": "9e310f58",
   "metadata": {},
   "outputs": [
    {
     "name": "stdout",
     "output_type": "stream",
     "text": [
      "[[1 2 3]\n",
      " [2 3 4]]\n",
      "[[1 2]\n",
      " [2 3]\n",
      " [3 4]]\n",
      "[[1 2 3]\n",
      " [2 3 4]]\n",
      "[[1 2]\n",
      " [2 3]\n",
      " [3 4]]\n"
     ]
    }
   ],
   "source": [
    "M = np.array([[1,2,3],[2,3,4]])\n",
    "print(M)\n",
    "print(M.T)\n",
    "print(M.T.T)\n",
    "print(np.transpose(M))"
   ]
  },
  {
   "cell_type": "code",
   "execution_count": 6,
   "id": "2c780b80",
   "metadata": {},
   "outputs": [
    {
     "name": "stdout",
     "output_type": "stream",
     "text": [
      "[4.+1.j 3.+0.j 2.-4.j]\n",
      "[4.+1.j 3.+0.j 2.-4.j]\n",
      "[4.+1.j 3.+0.j 2.-4.j]\n",
      "[[4.-1.j]\n",
      " [3.-0.j]\n",
      " [2.+4.j]]\n"
     ]
    }
   ],
   "source": [
    "C = np.array([4 +1j,3, 2-4j])\n",
    "print(C)\n",
    "print(C.T)\n",
    "print(np.transpose(C))\n",
    "print(np.matrix(C).H) # hermitian works only this way"
   ]
  },
  {
   "cell_type": "code",
   "execution_count": 13,
   "id": "7fa079d6",
   "metadata": {},
   "outputs": [
    {
     "name": "stdout",
     "output_type": "stream",
     "text": [
      "[[ 9. -7.  2. -4.]\n",
      " [ 4.  2. 15. -5.]\n",
      " [ 2. -4.  3.  0.]\n",
      " [ 3.  8. -1.  3.]]\n",
      "[9. 2. 3. 3.]\n",
      "[9. 2. 3. 3.]\n",
      "[[9. 0. 0. 0.]\n",
      " [0. 2. 0. 0.]\n",
      " [0. 0. 3. 0.]\n",
      " [0. 0. 0. 3.]]\n",
      "17.0 17.0\n"
     ]
    }
   ],
   "source": [
    "# Diagonla and trace\n",
    "M = np.round(5 * np.random.randn(4,4))\n",
    "print(M)\n",
    "d = np.diag(M)\n",
    "print(d)\n",
    "d = np.diag(M)\n",
    "D = np.diag(d)\n",
    "print(d)\n",
    "print(D)\n",
    "\n",
    "tr = np.trace(M)\n",
    "tr2 = sum(np.diag(M))\n",
    "print(tr, tr2)"
   ]
  },
  {
   "cell_type": "code",
   "execution_count": 21,
   "id": "c24001e8",
   "metadata": {},
   "outputs": [
    {
     "name": "stdout",
     "output_type": "stream",
     "text": [
      "24\n",
      "24\n",
      "36\n",
      "36\n"
     ]
    }
   ],
   "source": [
    "A = np.random.randint(10, size=(3,3)) \n",
    "B = np.random.randint(10, size=(3,3))\n",
    "\n",
    "print(np.trace(A) + np.trace(B))\n",
    "print(np.trace(A + B))\n",
    "\n",
    "print(np.trace(3*A))\n",
    "print(3*np.trace(A))\n"
   ]
  },
  {
   "cell_type": "code",
   "execution_count": 75,
   "id": "1f830d35",
   "metadata": {},
   "outputs": [
    {
     "name": "stdout",
     "output_type": "stream",
     "text": [
      "[[ 1  4  7 10]\n",
      " [ 2  5  8 11]\n",
      " [ 3  6  9 12]]\n",
      "\n",
      "[10, 20, 30, 4]\n",
      "\n",
      "[100, 200, 300]\n",
      "\n"
     ]
    }
   ],
   "source": [
    "# Broadcasting\n",
    "A = np.reshape(np.arange(1,13),(3,4), \"F\")\n",
    "\n",
    "r = [10, 20, 30, 4]\n",
    "c = [100, 200, 300]\n",
    "\n",
    "print(A)\n",
    "print(\"\")\n",
    "print(r)\n",
    "print(\"\")\n",
    "print(c)\n",
    "print(\"\")"
   ]
  },
  {
   "cell_type": "code",
   "execution_count": 77,
   "id": "7eb5f5aa",
   "metadata": {},
   "outputs": [
    {
     "name": "stdout",
     "output_type": "stream",
     "text": [
      "[[ 10  80 210  40]\n",
      " [ 20 100 240  44]\n",
      " [ 30 120 270  48]]\n",
      "[[101 104 107 110]\n",
      " [202 205 208 211]\n",
      " [303 306 309 312]]\n"
     ]
    }
   ],
   "source": [
    "# broad casting\n",
    "print(A * r)\n",
    "print(A + np.reshape(c, (len(c), 1)))"
   ]
  },
  {
   "cell_type": "code",
   "execution_count": 9,
   "id": "df672ce9",
   "metadata": {},
   "outputs": [
    {
     "data": {
      "text/plain": [
       "array([[ 0.36475141,  0.84787302, -0.06781191, -1.51531615, -1.78112541,\n",
       "         0.25481351],\n",
       "       [ 1.60111146,  0.36386041,  0.01794901, -1.69654345, -1.79809858,\n",
       "         1.11177174],\n",
       "       [-4.29699983,  0.48724587, -0.67584522, -1.64072666,  2.67953199,\n",
       "        -3.75655591]])"
      ]
     },
     "execution_count": 9,
     "metadata": {},
     "output_type": "execute_result"
    }
   ],
   "source": [
    "# matrix multiplication\n",
    "m = 4\n",
    "n = 3\n",
    "k = 6\n",
    "\n",
    "A = np.random.randn(m,n)\n",
    "B = np.random.randn(n,k)\n",
    "C = np.random.randn(m,k)\n",
    "\n",
    "\n",
    "np.matmul(A,B)\n",
    "np.matmul(A.T,C)\n",
    "np.matmul(np.matrix.transpose(A),C)"
   ]
  },
  {
   "cell_type": "code",
   "execution_count": 117,
   "id": "82afae06",
   "metadata": {},
   "outputs": [
    {
     "name": "stdout",
     "output_type": "stream",
     "text": [
      "[[8 2]\n",
      " [3 3]\n",
      " [6 9]]\n",
      "[8 3 6]\n",
      "[[6 4]\n",
      " [2 4]]\n",
      "[6 4]\n"
     ]
    }
   ],
   "source": [
    "# code challenge\n",
    "A = np.random.randint(10,size=(3,2))\n",
    "B = np.random.randint(10,size=(2,2))\n",
    "\n",
    "print(A)\n",
    "print(A[:,0])\n",
    "print(B)\n",
    "print(B[0,:])"
   ]
  },
  {
   "cell_type": "code",
   "execution_count": 118,
   "id": "a9543f01",
   "metadata": {},
   "outputs": [
    {
     "data": {
      "text/plain": [
       "array([[52, 40],\n",
       "       [24, 24],\n",
       "       [54, 60]])"
      ]
     },
     "execution_count": 118,
     "metadata": {},
     "output_type": "execute_result"
    }
   ],
   "source": [
    "np.matmul(A,B)"
   ]
  },
  {
   "cell_type": "code",
   "execution_count": 121,
   "id": "67223408",
   "metadata": {
    "scrolled": true
   },
   "outputs": [],
   "source": [
    "for i in A.T:\n",
    "    for j in B:\n",
    "        print(i, j, \";\")\n",
    "        print( np.reshape(i,(3,1), \"F\")* j, \";\")\n",
    "    print(\" \")"
   ]
  },
  {
   "cell_type": "code",
   "execution_count": 124,
   "id": "a58ce48c",
   "metadata": {},
   "outputs": [
    {
     "name": "stdout",
     "output_type": "stream",
     "text": [
      "[8 3 6] [6 4]\n",
      "[[48 32]\n",
      " [18 12]\n",
      " [36 24]]\n",
      "[2 3 9] [2 4]\n",
      "[[ 4  8]\n",
      " [ 6 12]\n",
      " [18 36]]\n",
      "[[52. 40.]\n",
      " [24. 24.]\n",
      " [54. 60.]]\n"
     ]
    },
    {
     "data": {
      "text/plain": [
       "array([[0., 0.],\n",
       "       [0., 0.],\n",
       "       [0., 0.]])"
      ]
     },
     "execution_count": 124,
     "metadata": {},
     "output_type": "execute_result"
    }
   ],
   "source": [
    "sum_mat = np.zeros((3,2))\n",
    "\n",
    "for i in range(2):\n",
    "    print(A[:,i], B[i,:])\n",
    "    print(np.outer(A[:,i], B[i,:]))\n",
    "    sum_mat += np.outer(A[:,i], B[i,:])\n",
    "print(sum_mat)\n",
    "\n",
    "np.matmul(A,B) - sum_mat\n"
   ]
  },
  {
   "cell_type": "code",
   "execution_count": 106,
   "id": "708670ca",
   "metadata": {},
   "outputs": [
    {
     "name": "stdout",
     "output_type": "stream",
     "text": [
      "[[-0.09890696  5.31926814  1.30764996  1.11968029]\n",
      " [-2.07907103  5.08917589 -4.42419424  1.93626385]\n",
      " [-1.04641841 -1.31687419  0.46667487  3.22050316]\n",
      " [-0.31708868 -2.20994719 -2.20955925 -2.77629261]]\n"
     ]
    },
    {
     "data": {
      "text/plain": [
       "array([[ 0.00000000e+00,  0.00000000e+00,  0.00000000e+00,\n",
       "         0.00000000e+00],\n",
       "       [-4.44089210e-16,  0.00000000e+00,  0.00000000e+00,\n",
       "        -2.22044605e-16],\n",
       "       [ 2.22044605e-16,  0.00000000e+00, -5.55111512e-17,\n",
       "         0.00000000e+00],\n",
       "       [ 1.11022302e-16,  0.00000000e+00,  0.00000000e+00,\n",
       "         0.00000000e+00]])"
      ]
     },
     "execution_count": 106,
     "metadata": {},
     "output_type": "execute_result"
    }
   ],
   "source": [
    "m = 4\n",
    "n = 6\n",
    "\n",
    "A = np.random.randn(m, n)\n",
    "B = np.random.randn(n, m)\n",
    "C1 = np.zeros((m,m))\n",
    "\n",
    "for i in range(n):\n",
    "    C1 += np.outer(A[:,i], B[i,:])\n",
    "\n",
    "C2 = A@B\n",
    "print(C2)\n",
    "C1- C2\n",
    "    "
   ]
  },
  {
   "cell_type": "code",
   "execution_count": 7,
   "id": "4e514a6b",
   "metadata": {},
   "outputs": [
    {
     "name": "stdout",
     "output_type": "stream",
     "text": [
      "[[ 0.11728473 -0.80657421]\n",
      " [ 1.22136017  8.3638603 ]]\n",
      "[[ 0.11728473 -0.80657421]\n",
      " [ 1.22136017  8.3638603 ]]\n"
     ]
    },
    {
     "data": {
      "text/plain": [
       "array([[-1.11022302e-16,  2.22044605e-16],\n",
       "       [ 0.00000000e+00,  0.00000000e+00]])"
      ]
     },
     "execution_count": 7,
     "metadata": {},
     "output_type": "execute_result"
    }
   ],
   "source": [
    "# Order of operations\n",
    "\n",
    "n = 2\n",
    "L = np.random.randn(n,n)\n",
    "I = np.random.randn(n,n)\n",
    "V = np.random.randn(n,n)\n",
    "E = np.random.randn(n,n)\n",
    "\n",
    "res1 = np.matrix.transpose(L @ I @ V @ E)\n",
    "print(res1)\n",
    "res2 = E.T @ V.T @ I.T @ L.T\n",
    "print(res2)\n",
    "res1 - res2"
   ]
  },
  {
   "cell_type": "code",
   "execution_count": null,
   "id": "4797f801",
   "metadata": {},
   "outputs": [],
   "source": []
  }
 ],
 "metadata": {
  "kernelspec": {
   "display_name": "Python 3 (ipykernel)",
   "language": "python",
   "name": "python3"
  },
  "language_info": {
   "codemirror_mode": {
    "name": "ipython",
    "version": 3
   },
   "file_extension": ".py",
   "mimetype": "text/x-python",
   "name": "python",
   "nbconvert_exporter": "python",
   "pygments_lexer": "ipython3",
   "version": "3.11.3"
  }
 },
 "nbformat": 4,
 "nbformat_minor": 5
}
